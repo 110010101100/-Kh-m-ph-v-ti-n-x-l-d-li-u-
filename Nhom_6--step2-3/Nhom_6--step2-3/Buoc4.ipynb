{
 "cells": [
  {
   "cell_type": "markdown",
   "metadata": {},
   "source": [
    " ## Step 4: Tối ưu hóa MLPClassifier bằng GridSearchCV\n",
    "\n",
    " Mục tiêu: tìm cấu hình tốt nhất cho MLP trên tập dữ liệu Iris."
   ]
  },
  {
   "cell_type": "code",
   "execution_count": null,
   "metadata": {},
   "outputs": [],
   "source": [
    "print(\"=== Bước 4.1: Kiểm tra và tạo dữ liệu đầu vào ===\")\n",
    "import os\n",
    "import pandas as pd\n",
    "from sklearn.datasets import load_iris\n",
    "from sklearn.preprocessing import StandardScaler\n",
    "\n",
    "if not os.path.exists(\"iris_scaled.csv\"):\n",
    "    print(\"📂 Chưa có file iris_scaled.csv – Đang tạo từ bộ Iris gốc...\")\n",
    "    iris = load_iris()\n",
    "    data = pd.DataFrame(data=iris.data, columns=iris.feature_names)\n",
    "    data['target'] = iris.target\n",
    "\n",
    "    scaler = StandardScaler()\n",
    "    X_scaled = scaler.fit_transform(data.drop('target', axis=1))\n",
    "    data_scaled = pd.DataFrame(X_scaled, columns=iris.feature_names)\n",
    "    data_scaled['target'] = data['target']\n",
    "\n",
    "    data_scaled.to_csv('iris_scaled.csv', index=False)\n",
    "    print(\"✅ Đã lưu iris_scaled.csv (dữ liệu đã chuẩn hóa).\")\n",
    "else:\n",
    "    print(\"✅ Đã tìm thấy iris_scaled.csv.\")\n",
    "\n",
    "print(\"📈 Xem thử 5 dòng đầu:\")\n",
    "print(pd.read_csv(\"iris_scaled.csv\").head())\n"
   ]
  },
  {
   "cell_type": "code",
   "execution_count": null,
   "metadata": {},
   "outputs": [],
   "source": [
    "print(\"\\n=== Bước 4.2: Cấu hình pipeline và tham số tìm kiếm ===\")\n",
    "from sklearn.model_selection import GridSearchCV, StratifiedKFold\n",
    "from sklearn.neural_network import MLPClassifier\n",
    "from sklearn.pipeline import Pipeline\n",
    "from sklearn.preprocessing import StandardScaler\n",
    "import joblib\n",
    "\n",
    "df = pd.read_csv(\"iris_scaled.csv\")\n",
    "X = df.drop(\"target\", axis=1)\n",
    "y = df[\"target\"]\n",
    "\n",
    "print(f\"🔢 Dữ liệu huấn luyện: {X.shape[0]} mẫu, {X.shape[1]} đặc trưng\")\n",
    "\n",
    "pipeline = Pipeline([\n",
    "    ('scaler', StandardScaler()),\n",
    "    ('mlp', MLPClassifier(max_iter=1000, random_state=42))\n",
    "])\n",
    "\n",
    "param_grid = {\n",
    "    'mlp__hidden_layer_sizes': [(50,), (100,), (50, 50), (100, 50)],\n",
    "    'mlp__activation': ['relu', 'tanh', 'logistic'],\n",
    "    'mlp__solver': ['adam', 'sgd'],\n",
    "    'mlp__alpha': [0.0001, 0.001, 0.01],\n",
    "    'mlp__learning_rate_init': [0.001, 0.01],\n",
    "}\n",
    "\n",
    "total_combinations = (\n",
    "    len(param_grid['mlp__hidden_layer_sizes']) *\n",
    "    len(param_grid['mlp__activation']) *\n",
    "    len(param_grid['mlp__solver']) *\n",
    "    len(param_grid['mlp__alpha']) *\n",
    "    len(param_grid['mlp__learning_rate_init'])\n",
    ")\n",
    "print(f\"🔧 Tổng số tổ hợp siêu tham số: {total_combinations}\")\n",
    "\n",
    "cv = StratifiedKFold(n_splits=5, shuffle=True, random_state=42)\n"
   ]
  },
  {
   "cell_type": "code",
   "execution_count": null,
   "metadata": {},
   "outputs": [],
   "source": [
    "print(\"\\n=== Bước 4.3: Tiến hành huấn luyện bằng GridSearchCV ===\")\n",
    "grid_search = GridSearchCV(\n",
    "    pipeline,\n",
    "    param_grid,\n",
    "    cv=cv,\n",
    "    scoring='accuracy',\n",
    "    n_jobs=-1,\n",
    "    verbose=2,\n",
    "    return_train_score=True\n",
    ")\n",
    "\n",
    "print(\"⏳ Bắt đầu huấn luyện... (mỗi dấu 'Fitting' là một tổ hợp tham số)\")\n",
    "grid_search.fit(X, y)\n",
    "print(\"✅ Huấn luyện hoàn tất.\")\n"
   ]
  },
  {
   "cell_type": "code",
   "execution_count": null,
   "metadata": {},
   "outputs": [],
   "source": [
    "print(\"\\n=== Bước 4.4: Lưu mô hình và xem kết quả ===\")\n",
    "joblib.dump(grid_search, \"mlp_gridsearch_model.pkl\")\n",
    "results_df = pd.DataFrame(grid_search.cv_results_)\n",
    "results_df.to_csv(\"mlp_gridsearch_results.csv\", index=False)\n",
    "print(\"💾 Đã lưu mô hình và kết quả vào 'mlp_gridsearch_model.pkl' và 'mlp_gridsearch_results.csv'.\")\n",
    "\n",
    "print(\"\\n🎯 Tham số tốt nhất tìm được:\")\n",
    "print(grid_search.best_params_)\n",
    "print(f\"🏆 Độ chính xác cao nhất (cross-validated): {grid_search.best_score_ * 100:.2f}%\")\n",
    "\n",
    "print(\"\\n🔝 Top 3 cấu hình tốt nhất:\")\n",
    "top3 = results_df.sort_values(by='mean_test_score', ascending=False).head(3)\n",
    "print(top3[['mean_test_score', 'params']])\n"
   ]
  }
 ],
 "metadata": {
  "language_info": {
   "codemirror_mode": {
    "name": "ipython",
    "version": 3
   },
   "file_extension": ".py",
   "mimetype": "text/x-python",
   "name": "python",
   "nbconvert_exporter": "python",
   "pygments_lexer": "ipython3",
   "version": 3
  }
 },
 "nbformat": 4,
 "nbformat_minor": 2
}
